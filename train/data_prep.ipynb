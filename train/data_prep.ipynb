{
 "cells": [
  {
   "cell_type": "code",
   "execution_count": null,
   "metadata": {},
   "outputs": [],
   "source": [
    "import csv\n",
    "import json\n",
    "# from datetime import datetime, timezone\n",
    "# from dateutil import parser"
   ]
  },
  {
   "cell_type": "code",
   "execution_count": null,
   "metadata": {},
   "outputs": [],
   "source": [
    "csvfile = open('discord_chat.csv', 'r')\n",
    "jsonfile = open('dataset.jsonl', 'w')\n",
    "\n",
    "fieldnames = (\"AuthorID\",\"Author\",\"Date\",\"Content\",\"Attachments\",\"Reactions\")\n",
    "reader = csv.DictReader( csvfile, fieldnames)"
   ]
  },
  {
   "cell_type": "code",
   "execution_count": null,
   "metadata": {},
   "outputs": [],
   "source": [
    "# find pairs of lines where person A speaks, then person B speaks\n",
    "# append them as two separate lines in rows_to_keep\n",
    "print(\"Parsing data...\")\n",
    "rows_to_keep = []\n",
    "last_row = None\n",
    "for row in reader:\n",
    "    # if parser.isoparse(row[\"Date\"]) > datetime(2024, 1, 6, tzinfo=timezone.utc) and parser.isoparse(row[\"Date\"]) < datetime(2024, 1, 10, tzinfo=timezone.utc):\n",
    "    if last_row is not None and row is not None:\n",
    "        if row[\"Author\"] != last_row[\"Author\"]:\n",
    "            rows_to_keep.append(last_row)\n",
    "            last_row = row\n",
    "        else:\n",
    "            last_row[\"Content\"] = last_row[\"Content\"] + \" \" + row[\"Content\"]\n",
    "    else:\n",
    "        last_row = row"
   ]
  },
  {
   "cell_type": "code",
   "execution_count": null,
   "metadata": {},
   "outputs": [],
   "source": [
    "# concatenate data\n",
    "prompts = []\n",
    "responses = []\n",
    "for i in range(2, len(rows_to_keep), 2):\n",
    "    if i+1 < len(rows_to_keep):\n",
    "        prompt = rows_to_keep[i]\n",
    "        response = rows_to_keep[i+1]\n",
    "        prompt = prompt[\"Content\"].replace('\"','\\\\\"')\n",
    "        response = response[\"Content\"].replace('\"','\\\\\"')\n",
    "\n",
    "        prompts.append(prompt)\n",
    "        responses.append(response)"
   ]
  },
  {
   "cell_type": "code",
   "execution_count": null,
   "metadata": {},
   "outputs": [],
   "source": [
    "# convert data to jsonl\n",
    "for i in range(len(prompts)):\n",
    "    fields = {\n",
    "        \"input\": prompts[i], \n",
    "        \"response\": responses[i]\n",
    "    }\n",
    "    json.dump(fields, jsonfile)\n",
    "    jsonfile.write('\\n')"
   ]
  }
 ],
 "metadata": {
  "language_info": {
   "name": "python"
  }
 },
 "nbformat": 4,
 "nbformat_minor": 2
}
