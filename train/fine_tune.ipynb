{
 "cells": [
  {
   "cell_type": "code",
   "execution_count": null,
   "metadata": {},
   "outputs": [],
   "source": [
    "%pip3 install --upgrade sagemaker datasets"
   ]
  },
  {
   "cell_type": "code",
   "execution_count": null,
   "metadata": {},
   "outputs": [],
   "source": [
    "from sagemaker import hyperparameters\n",
    "\n",
    "my_hyperparameters = hyperparameters.retrieve_default(\n",
    "    model_id=\"meta-textgenerationneuron-llama-2-7b\", model_version=\"1.*\"\n",
    ")\n",
    "\n",
    "print(my_hyperparameters)"
   ]
  },
  {
   "cell_type": "code",
   "execution_count": null,
   "metadata": {},
   "outputs": [],
   "source": [
    "# my_hyperparameters[\"max_input_length\"] = \"4096\" \n",
    "my_hyperparameters[\"max_steps\"] = \"25\"\n",
    "my_hyperparameters[\"learning_rate\"] = \"0.0001\"\n",
    "print(my_hyperparameters)"
   ]
  },
  {
   "cell_type": "code",
   "execution_count": null,
   "metadata": {},
   "outputs": [],
   "source": [
    "from sagemaker.jumpstart.estimator import JumpStartEstimator\n",
    "import sagemaker\n",
    "\n",
    "estimator = JumpStartEstimator(\n",
    "    model_id=\"meta-textgenerationneuron-llama-2-7b\",\n",
    "    model_version=\"1.*\",\n",
    "    hyperparameters=my_hyperparameters,\n",
    "    environment={\n",
    "        \"accept_eula\": \"false\"\n",
    "    }\n",
    ")\n",
    "\n",
    "# locate S3 bucket\n",
    "output_bucket = sagemaker.Session().default_bucket()\n",
    "train_data_location = f\"s3://{output_bucket}/training_data\"\n",
    "\n",
    "estimator.fit({\"train\": train_data_location})"
   ]
  }
 ],
 "metadata": {
  "language_info": {
   "name": "python"
  }
 },
 "nbformat": 4,
 "nbformat_minor": 2
}
